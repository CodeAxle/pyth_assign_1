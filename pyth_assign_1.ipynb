{
 "cells": [
  {
   "cell_type": "markdown",
   "id": "24d69e00",
   "metadata": {},
   "source": [
    "<!-- 1.The elements provided can be classified as follows:\n",
    "\n",
    "Values:\n",
    "\n",
    "'hello'\n",
    "-87.8\n",
    "6\n",
    "\n",
    "Expressions (Mathematical Operators):\n",
    "\n",
    "*\n",
    "-\n",
    "/\n",
    "+ -->"
   ]
  },
  {
   "cell_type": "markdown",
   "id": "c6164d27",
   "metadata": {},
   "source": [
    "# 1."
   ]
  },
  {
   "cell_type": "code",
   "execution_count": 1,
   "id": "60536298",
   "metadata": {},
   "outputs": [],
   "source": [
    "# 1.The elements provided can be classified as follows:\n",
    "\n",
    "# Values:\n",
    "\n",
    "# 'hello'\n",
    "# -87.8\n",
    "# 6\n",
    "\n",
    "# Expressions (Mathematical Operators):\n",
    "\n",
    "# *\n",
    "# -\n",
    "# /\n",
    "# +"
   ]
  },
  {
   "cell_type": "markdown",
   "id": "9f44df83",
   "metadata": {},
   "source": [
    "# 2."
   ]
  },
  {
   "cell_type": "code",
   "execution_count": 2,
   "id": "271bfac9",
   "metadata": {},
   "outputs": [],
   "source": [
    "# 2. Diffrence between string and a variable:\n",
    "\n",
    "# String:\n",
    "\n",
    "# a) A string is a data type used to represent text or sequences of characters, such as letters, numbers, and symbols.\n",
    "# b) It is enclosed in either single (' ') or double (\" \") quotation marks in most programming languages.\n",
    "# c) Examples of strings: \"Hello, world!\", \"12345\", \"Python Programming\".\n",
    "\n",
    "# Variable:\n",
    "\n",
    "# a) variable is a symbolic name that represents or refers to a value or data stored in the computer's memory.\n",
    "# b) Variables can store different types of data, including strings, integers, floats, and more complex data structures.\n",
    "# c) Example of a variable assignment: x = \"Hello, world!\", where x is the variable name and \"Hello, world!\" is the string value assigned to it."
   ]
  },
  {
   "cell_type": "markdown",
   "id": "59a5e906",
   "metadata": {},
   "source": [
    "# 3."
   ]
  },
  {
   "cell_type": "code",
   "execution_count": 3,
   "id": "f7c015cc",
   "metadata": {},
   "outputs": [],
   "source": [
    "# 3. Diffrent data types:\n",
    "\n",
    "# a)String(str): ex: \"hello world.\"\n",
    "\n",
    "# b)Integer(int): ex: 1, 100, 242.\n",
    "\n",
    "# c)Boolean(bool): ex: True, False\n"
   ]
  },
  {
   "cell_type": "markdown",
   "id": "ed5f6d2f",
   "metadata": {},
   "source": [
    "# 4."
   ]
  },
  {
   "cell_type": "code",
   "execution_count": 4,
   "id": "c1532e2b",
   "metadata": {},
   "outputs": [],
   "source": [
    "# 4. Expression in programming is made up of one or more elements that combine to produce a value:\n",
    "\n",
    "\n",
    "# a) Literals: Fixed values such as numbers (e.g., 5, 3.14), strings (e.g., \"hello\"), and Boolean values (e.g., True, False).\n",
    "\n",
    "# b) Variables: Symbols that represent values stored in memory. For example, x can be a variable representing a number.\n",
    "\n",
    "# c) Operators: Symbols or keywords that perform operations. \n",
    "# Examples:i) arithmetic operators (+, -, *, /),\n",
    "# ii) comparison operators (==, !=, <, >), logical operators (and, or, not)\n",
    "# iii) assignment operators (=, +=, -=).\n",
    "\n",
    "# d) Function calls: Functions that perform specific tasks and return values. \n",
    "# For ex: len(\"hello\") calls the len() function to determine the length of the string \"hello\".\n"
   ]
  },
  {
   "cell_type": "markdown",
   "id": "ee949fb0",
   "metadata": {},
   "source": [
    "# 5."
   ]
  },
  {
   "cell_type": "code",
   "execution_count": 11,
   "id": "d62ae8c8",
   "metadata": {},
   "outputs": [],
   "source": [
    "# 5. \n",
    "# a)Expression: it is a combination of values, variables, operators, and function calls that evaluates to a single value. It can be simple string a complex combination of operations.\n",
    "\n",
    "# For example:\n",
    "# i) 5 + 3 is an expression that evaluates to 8.\n",
    "# ii) len(\"hello\") is an expression that evaluates to 5.\n",
    "\n",
    "# b) Statement: it is a unit of code that performs some action or operation. It doesn't necessarily evaluate to a value like an expression does. Statements can include assignments, loops, conditionals, function definitions, etc.\n",
    "\n",
    "# For example:\n",
    "# i) spam = 10 is an assignment statement that assigns the value 10 to the variable spam.\n",
    "# ii) print(\"Hello, world!\") is a print statement that outputs the string \"Hello, world!\" to the console.\n",
    "# iii) if condition: is an example of a conditional statement used for branching execution based on a condition.\n",
    "\n",
    "# conclusion: expressions are evaluated to produce a value, while statements perform actions or operations in a program.\n"
   ]
  },
  {
   "cell_type": "markdown",
   "id": "7437ed7a",
   "metadata": {},
   "source": [
    "# 6."
   ]
  },
  {
   "cell_type": "code",
   "execution_count": 12,
   "id": "768c36bd",
   "metadata": {},
   "outputs": [
    {
     "name": "stdout",
     "output_type": "stream",
     "text": [
      "23\n"
     ]
    }
   ],
   "source": [
    "bacon = 22\n",
    "result = bacon + 1\n",
    "print(result)\n",
    "\n",
    "# result return bacon as '23' , as it was '22' earlier and later on adding '1' to it make it '23'."
   ]
  },
  {
   "cell_type": "markdown",
   "id": "dda22c98",
   "metadata": {},
   "source": [
    "# 7."
   ]
  },
  {
   "cell_type": "code",
   "execution_count": 14,
   "id": "770e0e9d",
   "metadata": {},
   "outputs": [
    {
     "data": {
      "text/plain": [
       "'spamspamspam'"
      ]
     },
     "execution_count": 14,
     "metadata": {},
     "output_type": "execute_result"
    }
   ],
   "source": [
    "'spam' + 'spamspam'"
   ]
  },
  {
   "cell_type": "code",
   "execution_count": 15,
   "id": "3094257a",
   "metadata": {},
   "outputs": [
    {
     "data": {
      "text/plain": [
       "'spamspamspam'"
      ]
     },
     "execution_count": 15,
     "metadata": {},
     "output_type": "execute_result"
    }
   ],
   "source": [
    "'spam' * 3  "
   ]
  },
  {
   "cell_type": "markdown",
   "id": "16fbc290",
   "metadata": {},
   "source": [
    "# 8."
   ]
  },
  {
   "cell_type": "code",
   "execution_count": null,
   "id": "d28f1249",
   "metadata": {},
   "outputs": [],
   "source": [
    "# 8. \n",
    "# In Python, variable names must follow certain rules:\n",
    "\n",
    "# q) Variable names can contain letters (a-z, A-Z), digits (0-9), and underscores (_).\n",
    "# b) Variable names cannot start with a digit. They must begin with a letter or an underscore.\n",
    "# c) Variable names cannot be Python keywords or reserved words, such as 'if', 'else', 'for', 'while', 'def', 'class', etc.\n",
    "# d) Variable names are case-sensitive, meaning 'eggs', 'Eggs', and 'EGGS' are all different variables.\n",
    "\n",
    "# Based on these rules:\n",
    "# eggs is a valid variable name because it starts with a letter (e) and contains only letters, which are allowed in variable names.\n",
    "# 100 is an invalid variable name because it starts with a digit (1), which is not allowed. Variable names must start with a letter or an underscore.\n",
    "# Therefore, eggs is a valid variable name while 100 is invalid."
   ]
  },
  {
   "cell_type": "markdown",
   "id": "9635920f",
   "metadata": {},
   "source": [
    "# 9."
   ]
  },
  {
   "cell_type": "markdown",
   "id": "9c8f2f4a",
   "metadata": {},
   "source": [
    "In Python Following functions can be used to convert a value to an integer, floating-point number, or string:"
   ]
  },
  {
   "cell_type": "code",
   "execution_count": 16,
   "id": "923ebf0c",
   "metadata": {},
   "outputs": [
    {
     "name": "stdout",
     "output_type": "stream",
     "text": [
      "10 25\n"
     ]
    }
   ],
   "source": [
    "a = int(10.5)  # Output: 10\n",
    "b = int('25')  # Output: 25\n",
    "print(a, b)"
   ]
  },
  {
   "cell_type": "code",
   "execution_count": 17,
   "id": "20ada800",
   "metadata": {},
   "outputs": [
    {
     "name": "stdout",
     "output_type": "stream",
     "text": [
      "10.0 3.14\n"
     ]
    }
   ],
   "source": [
    "a = float(10)    # Output: 10.0\n",
    "b = float('3.14')  # Output: 3.14\n",
    "print(a, b)"
   ]
  },
  {
   "cell_type": "code",
   "execution_count": 18,
   "id": "1f8fc713",
   "metadata": {},
   "outputs": [
    {
     "name": "stdout",
     "output_type": "stream",
     "text": [
      "10 3.14\n"
     ]
    }
   ],
   "source": [
    "a = str(10)     # Output: '10'\n",
    "b = str(3.14)   # Output: '3.14'\n",
    "print(a, b)"
   ]
  },
  {
   "cell_type": "code",
   "execution_count": 10,
   "id": "6085f7ff",
   "metadata": {},
   "outputs": [],
   "source": [
    "# 10.\n",
    "# The expression 'I have eaten ' + 99 + ' burritos.' causes an error because concatenating a string ('I have eaten ') with an integer (99) directly, is not allowed in Python.\n",
    "\n",
    "# To fix this convert the integer 99 into a string using the str() function or using colons single/double (''/\"\"):\n",
    "# 'I have eaten ' + str(99) + ' burritos.'\n",
    "# or 'I have eaten ' + '99' + ' burritos.' "
   ]
  },
  {
   "cell_type": "code",
   "execution_count": null,
   "id": "82389f6a",
   "metadata": {},
   "outputs": [],
   "source": []
  }
 ],
 "metadata": {
  "kernelspec": {
   "display_name": "Python 3 (ipykernel)",
   "language": "python",
   "name": "python3"
  },
  "language_info": {
   "codemirror_mode": {
    "name": "ipython",
    "version": 3
   },
   "file_extension": ".py",
   "mimetype": "text/x-python",
   "name": "python",
   "nbconvert_exporter": "python",
   "pygments_lexer": "ipython3",
   "version": "3.11.5"
  }
 },
 "nbformat": 4,
 "nbformat_minor": 5
}
